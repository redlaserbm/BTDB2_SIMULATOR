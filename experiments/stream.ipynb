{
 "cells": [
  {
   "cell_type": "code",
   "execution_count": null,
   "metadata": {},
   "outputs": [
    {
     "ename": "",
     "evalue": "",
     "output_type": "error",
     "traceback": [
      "\u001b[1;31mRunning cells with '.venv (Python 3.10.11)' requires the ipykernel package.\n",
      "\u001b[1;31mInstall 'ipykernel' into the Python environment. \n",
      "\u001b[1;31mCommand: 'f:/OneDrive/Documents/BTDB2/BTDB2_SIMULATOR/.venv/Scripts/python.exe -m pip install ipykernel -U --force-reinstall'"
     ]
    }
   ],
   "source": [
    "import b2sim as b2"
   ]
  },
  {
   "cell_type": "code",
   "execution_count": null,
   "metadata": {},
   "outputs": [],
   "source": [
    "rounds = b2.Rounds(0.1) #stall factor\n",
    "\n",
    "farms = [\n",
    "    b2.initFarm(purchase_time=0,upgrades=[3,2,0])\n",
    "]\n",
    "\n",
    "initial_state_game = {\n",
    "    'Cash': 0,\n",
    "    'Eco': 500,\n",
    "    'Eco Send': 'Grouped Blacks',\n",
    "    'Rounds': rounds,\n",
    "    'Game Round': 11,\n",
    "    'Farms': farms\n",
    "}\n",
    "\n",
    "game_state = b2.GameState(initial_state_game)\n",
    "game_state.fastForward(target_round = 18)\n",
    "game_state.viewCashEcoHistory((24,12))\n",
    "print(\"The current cash and eco are (%s,%s)\"%(game_state.cash, game_state.eco))\n",
    "b2.writeLog(game_state.logs, filename = 'dsg_druid_farming')"
   ]
  },
  {
   "cell_type": "code",
   "execution_count": null,
   "metadata": {},
   "outputs": [],
   "source": [
    "rounds = b2.Rounds(0.1)\n",
    "\n",
    "farms = [\n",
    "    b2.initFarm(0,[3,2,0])\n",
    "]\n",
    "\n",
    "buy_queue = [\n",
    "    [b2.buyFarm()],\n",
    "    [b2.upgradeFarm(1,0)],\n",
    "    [b2.upgradeFarm(1,0)],\n",
    "    [b2.upgradeFarm(1,0)],\n",
    "    [b2.upgradeFarm(1,1)],\n",
    "    [b2.upgradeFarm(1,1)]\n",
    "]\n",
    "\n",
    "eco_queue = [\n",
    "    b2.ecoSend(rounds.getTimeFromRound(14), 'Grouped Blacks')\n",
    "]\n",
    "\n",
    "initial_state_game = {\n",
    "    'Cash': 0,\n",
    "    'Eco': 500,\n",
    "    'Eco Send': 'Zero',\n",
    "    'Rounds': rounds,\n",
    "    'Game Round': 11,\n",
    "    'Farms': farms,\n",
    "    'Buy Queue': buy_queue,\n",
    "    'Eco Queue': eco_queue\n",
    "}\n",
    "\n",
    "game_state = b2.GameState(initial_state_game)\n",
    "game_state.fastForward(target_round = 18)\n",
    "game_state.viewCashEcoHistory((24,12))\n",
    "print(\"The current cash and eco are (%s,%s)\"%(game_state.cash, game_state.eco))\n",
    "b2.writeLog(game_state.logs, filename = 'dsg_druid_farming')"
   ]
  },
  {
   "cell_type": "code",
   "execution_count": null,
   "metadata": {},
   "outputs": [],
   "source": [
    "rounds = b2.Rounds(1.0)\n",
    "\n",
    "initial_state_game = {\n",
    "    'Cash': 0,\n",
    "    'Eco': 5000,\n",
    "    'Eco Send': 'Grouped Purples',\n",
    "    'Rounds': rounds,\n",
    "    'Game Round': 11,\n",
    "}\n",
    "\n",
    "game_state = b2.GameState(initial_state_game)\n",
    "game_state.fastForward(target_round = 24)\n",
    "game_state.viewCashEcoHistory((24,12))\n",
    "print(\"The current cash and eco are (%s,%s)\"%(game_state.cash, game_state.eco))\n",
    "b2.writeLog(game_state.logs, filename = 'dsg_druid_farming')"
   ]
  },
  {
   "cell_type": "code",
   "execution_count": null,
   "metadata": {},
   "outputs": [],
   "source": [
    "rounds = b2.Rounds(0.25)\n",
    "\n",
    "eco_queue = [\n",
    "    b2.ecoSend(rounds.getTimeFromRound(1), 'Grouped Reds'),\n",
    "    b2.ecoSend(rounds.getTimeFromRound(5), 'Spaced Whites'),\n",
    "    b2.ecoSend(rounds.getTimeFromRound(9), 'Spaced Zebras')\n",
    "]\n",
    "\n",
    "buy_queue = [\n",
    "    [b2.buyDefense(650, min_buy_time = rounds.getTimeFromRound(1))],\n",
    "    [b2.buyDefense(1100, min_buy_time = rounds.getTimeFromRound(5))],\n",
    "    [b2.buyDefense(900, min_buy_time = rounds.getTimeFromRound(7))],\n",
    "]\n",
    "\n",
    "initial_state_game = {\n",
    "    'Cash': 900,\n",
    "    'Eco': 250,\n",
    "    'Eco Send': 'Grouped Reds',\n",
    "    'Rounds': rounds,\n",
    "    'Game Round': 1,\n",
    "    'Buy Queue': buy_queue\n",
    "}\n",
    "\n",
    "game_state = b2.GameState(initial_state_game)\n",
    "game_state.fastForward(target_round = 10)\n",
    "game_state.viewCashEcoHistory((24,12))\n",
    "print(\"The current cash and eco are (%s,%s)\"%(game_state.cash, game_state.eco))\n",
    "b2.writeLog(game_state.logs, filename = 'kingvon_testcase')"
   ]
  },
  {
   "cell_type": "code",
   "execution_count": null,
   "metadata": {},
   "outputs": [],
   "source": []
  }
 ],
 "metadata": {
  "kernelspec": {
   "display_name": ".venv",
   "language": "python",
   "name": "python3"
  },
  "language_info": {
   "codemirror_mode": {
    "name": "ipython",
    "version": 3
   },
   "file_extension": ".py",
   "mimetype": "text/x-python",
   "name": "python",
   "nbconvert_exporter": "python",
   "pygments_lexer": "ipython3",
   "version": "3.10.11"
  },
  "orig_nbformat": 4
 },
 "nbformat": 4,
 "nbformat_minor": 2
}
