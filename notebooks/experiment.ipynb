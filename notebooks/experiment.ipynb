{
 "cells": [
  {
   "cell_type": "code",
   "execution_count": 1,
   "id": "f5526d05",
   "metadata": {},
   "outputs": [],
   "source": [
    "# Preliminaries\n",
    "\n",
    "from utils import add_project_root\n",
    "add_project_root()\n",
    "\n",
    "import b2sim.engine as b2"
   ]
  },
  {
   "cell_type": "code",
   "execution_count": null,
   "id": "87bf9a3d",
   "metadata": {},
   "outputs": [
    {
     "name": "stdout",
     "output_type": "stream",
     "text": [
      "[{'Time': 222.29999999999998, 'Send Name': 'Grouped Blacks', 'Max Send Amount': None, 'Fortified': False, 'Camoflauge': False, 'Regrow': False, 'Max Eco Amount': None, 'Max Send Time': None, 'Queue Threshold': 6}]\n",
      "The current cash and eco are (1083.0,1391.0)\n"
     ]
    }
   ],
   "source": [
    "rounds = b2.Rounds(0.1)\n",
    "\n",
    "farms = [\n",
    "    b2.initFarm(rounds.getTimeFromRound(7), upgrades = [3,2,0]),\n",
    "    b2.initFarm(rounds.getTimeFromRound(13.9), upgrades = [3,2,0])\n",
    "]\n",
    "\n",
    "eco_queue = [\n",
    "    b2.ecoSend(time=rounds.getTimeFromRound(10), send_name='Grouped Reds'),\n",
    "    b2.ecoSend(time=rounds.getTimeFromRound(12), send_name='Spaced Rainbows'),\n",
    "    b2.ecoSend(time=rounds.getTimeFromRound(13), send_name='Zero'),\n",
    "    b2.ecoSend(time=rounds.getTimeFromRound(14), send_name='Grouped Blacks')\n",
    "]\n",
    "\n",
    "initial_state_game = {\n",
    "    'Cash': 0,\n",
    "    'Eco': 800,\n",
    "    'Eco Send': b2.ecoSend(send_name = 'Grouped Blacks'),\n",
    "    'Rounds': rounds, #Determines the lengths of the rounds in the game state\n",
    "    'Farms': farms,\n",
    "    'Game Round': 13.99\n",
    "}\n",
    "\n",
    "game_state = b2.GameState(initial_state_game)\n",
    "game_state.fastForward(target_round = 17)\n",
    "\n",
    "print(\"The current cash and eco are (%s,%s)\"%(game_state.cash, game_state.eco))\n",
    "b2.writeLog(game_state.logs, filename = 'tut_log')"
   ]
  }
 ],
 "metadata": {
  "kernelspec": {
   "display_name": ".venv",
   "language": "python",
   "name": "python3"
  },
  "language_info": {
   "codemirror_mode": {
    "name": "ipython",
    "version": 3
   },
   "file_extension": ".py",
   "mimetype": "text/x-python",
   "name": "python",
   "nbconvert_exporter": "python",
   "pygments_lexer": "ipython3",
   "version": "3.10.11"
  }
 },
 "nbformat": 4,
 "nbformat_minor": 5
}
